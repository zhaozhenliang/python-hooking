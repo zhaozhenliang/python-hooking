{
 "cells": [
  {
   "cell_type": "markdown",
   "metadata": {
    "deletable": true,
    "editable": true
   },
   "source": [
    "# Python Hooking, Patching and Injection\n",
    "\n",
    "\n",
    "[PPT Link](https://github.com/wjo1212/ChinaPyCon2016/blob/master/PythonHooking/PythonHooking.pdf)\n",
    "\n"
   ]
  },
  {
   "cell_type": "markdown",
   "metadata": {
    "deletable": true,
    "editable": true
   },
   "source": [
    "## Agenda\n",
    "\n",
    "1. Object and Mutability\n",
    "2. System Level Hook\n",
    "    - Import Hook\n",
    "    - System Hook\n",
    "3. Language Level Hook\n",
    "    - Context Manager\n",
    "    - Magic Methods\n",
    "    - Decorator\n",
    "    - class Decorator\n",
    "    - Metaclass\n",
    "4. Interpreter Level Hook\n",
    "    - AST\n",
    "    - Bytecodes\n",
    "    - Frame Object"
   ]
  },
  {
   "cell_type": "markdown",
   "metadata": {
    "collapsed": false,
    "deletable": true,
    "editable": true,
    "scrolled": true
   },
   "source": [
    "## 1. Object and Mutability"
   ]
  },
  {
   "cell_type": "markdown",
   "metadata": {
    "deletable": true,
    "editable": true
   },
   "source": [
    "> Everything in Python are objects."
   ]
  },
  {
   "cell_type": "markdown",
   "metadata": {
    "deletable": true,
    "editable": true
   },
   "source": [
    "### Example 1. how to intercept std I/O (print to buffer instead of console)"
   ]
  },
  {
   "cell_type": "code",
   "execution_count": 1,
   "metadata": {
    "collapsed": false,
    "deletable": true,
    "editable": true
   },
   "outputs": [
    {
     "name": "stdout",
     "output_type": "stream",
     "text": [
      "abc\n",
      "xyz\n",
      "123\n"
     ]
    }
   ],
   "source": [
    "print \"abc\"\n",
    "print \"xyz\"\n",
    "print \"123\""
   ]
  },
  {
   "cell_type": "code",
   "execution_count": 2,
   "metadata": {
    "collapsed": false,
    "deletable": true,
    "editable": true
   },
   "outputs": [],
   "source": [
    "import sys\n",
    "from StringIO import StringIO\n",
    "output = StringIO()\n",
    "\n",
    "# patching\n",
    "stdout = sys.stdout\n",
    "sys.stdout = output\n",
    "\n",
    "print \"abc\"\n",
    "print \"xyz\"\n",
    "print \"123\""
   ]
  },
  {
   "cell_type": "markdown",
   "metadata": {
    "deletable": true,
    "editable": true
   },
   "source": [
    "no resuslts, actually written to buffer."
   ]
  },
  {
   "cell_type": "code",
   "execution_count": 3,
   "metadata": {
    "collapsed": false,
    "deletable": true,
    "editable": true,
    "scrolled": true
   },
   "outputs": [
    {
     "data": {
      "text/plain": [
       "['abc\\n', 'xyz\\n', '123\\n']"
      ]
     },
     "execution_count": 3,
     "metadata": {},
     "output_type": "execute_result"
    }
   ],
   "source": [
    "output.seek(0)\n",
    "output.readlines()"
   ]
  },
  {
   "cell_type": "code",
   "execution_count": 20,
   "metadata": {
    "collapsed": false,
    "deletable": true,
    "editable": true
   },
   "outputs": [
    {
     "name": "stdout",
     "output_type": "stream",
     "text": [
      "abc\n",
      "xyz\n",
      "123\n"
     ]
    }
   ],
   "source": [
    "# recover\n",
    "sys.stdout = stdout\n",
    "\n",
    "print \"abc\"\n",
    "print \"xyz\"\n",
    "print \"123\""
   ]
  },
  {
   "cell_type": "markdown",
   "metadata": {
    "deletable": true,
    "editable": true
   },
   "source": [
    "More"
   ]
  },
  {
   "cell_type": "code",
   "execution_count": null,
   "metadata": {
    "collapsed": false,
    "deletable": true,
    "editable": true
   },
   "outputs": [],
   "source": [
    "sys.stderr\n",
    "sys.stdin\n",
    "sys.displayhook"
   ]
  },
  {
   "cell_type": "markdown",
   "metadata": {
    "deletable": true,
    "editable": true
   },
   "source": [
    "### Example 2. How to audit all file opening (when, who and how open)?"
   ]
  },
  {
   "cell_type": "code",
   "execution_count": 16,
   "metadata": {
    "collapsed": false,
    "deletable": true,
    "editable": true
   },
   "outputs": [],
   "source": [
    "import os\n",
    "\n",
    "os.chdir(\"/home/ubuntu/python-hooking/data\")\n",
    "\n",
    "open(\"./t1.txt\", \"w\").close()\n",
    "open(\"./t2.txt\", \"w\").close()\n",
    "open(\"./t3.txt\", \"w\").close()\n",
    "open(\"./t4.txt\", \"w\").close()"
   ]
  },
  {
   "cell_type": "code",
   "execution_count": 17,
   "metadata": {
    "collapsed": true,
    "deletable": true,
    "editable": true
   },
   "outputs": [],
   "source": [
    "import time\n",
    "open_file_history = []\n",
    "\n",
    "real_open = __builtins__.open\n",
    "\n",
    "def my_open(name, *args, **kwargs):\n",
    "    open_file_history.append(time.strftime(\"%H:%M:%S\") + '\" open \"' + name + '\"') # *\n",
    "    print(\"detected file opening: \" + name)\n",
    "    return real_open(name, *args, **kwargs)\n",
    "\n",
    "__builtin__.open = my_open"
   ]
  },
  {
   "cell_type": "code",
   "execution_count": 18,
   "metadata": {
    "collapsed": false,
    "deletable": true,
    "editable": true
   },
   "outputs": [
    {
     "name": "stdout",
     "output_type": "stream",
     "text": [
      "detected file opening: ./t1.txt\n",
      "detected file opening: ./t2.txt\n",
      "detected file opening: ./t3.txt\n",
      "detected file opening: ./t4.txt\n"
     ]
    }
   ],
   "source": [
    "open(\"./t1.txt\", \"w\").close()\n",
    "open(\"./t2.txt\", \"w\").close()\n",
    "open(\"./t3.txt\", \"w\").close()\n",
    "open(\"./t4.txt\", \"w\").close()"
   ]
  },
  {
   "cell_type": "code",
   "execution_count": 19,
   "metadata": {
    "collapsed": false,
    "deletable": true,
    "editable": true
   },
   "outputs": [
    {
     "data": {
      "text/plain": [
       "['03:49:23\" open \"./t1.txt\"',\n",
       " '03:49:23\" open \"./t2.txt\"',\n",
       " '03:49:23\" open \"./t3.txt\"',\n",
       " '03:49:23\" open \"./t4.txt\"']"
      ]
     },
     "execution_count": 19,
     "metadata": {},
     "output_type": "execute_result"
    }
   ],
   "source": [
    "open_file_history"
   ]
  },
  {
   "cell_type": "code",
   "execution_count": 21,
   "metadata": {
    "collapsed": true,
    "deletable": true,
    "editable": true
   },
   "outputs": [],
   "source": [
    "# recover\n",
    "__builtins__.open = real_open"
   ]
  },
  {
   "cell_type": "markdown",
   "metadata": {
    "deletable": true,
    "editable": true
   },
   "source": [
    "## 2. System Level Hook"
   ]
  },
  {
   "cell_type": "markdown",
   "metadata": {
    "deletable": true,
    "editable": true
   },
   "source": [
    "### 2.1 Import Hook"
   ]
  },
  {
   "cell_type": "code",
   "execution_count": 22,
   "metadata": {
    "collapsed": true,
    "deletable": true,
    "editable": true
   },
   "outputs": [],
   "source": [
    "def import_module(mod_name):\n",
    "    if mod_name in sys.modules:\n",
    "        return sys.modules[mod_name]\n",
    "    \n",
    "    for dir_name in sys.path:\n",
    "        print dir_name\n",
    "        file_name = op.join(dir_name, mod_name + \".py\")\n",
    "        \n",
    "        m = _exec_file(mod_name, file_name)\n",
    "        sys.modules[mod_name] = m\n",
    "        return m\n",
    "    \n",
    "    raise ImportError(\"...\")"
   ]
  },
  {
   "cell_type": "code",
   "execution_count": null,
   "metadata": {
    "collapsed": false,
    "deletable": true,
    "editable": true
   },
   "outputs": [],
   "source": [
    "import sys\n",
    "sys.modules.keys()[:10]"
   ]
  },
  {
   "cell_type": "markdown",
   "metadata": {
    "deletable": true,
    "editable": true
   },
   "source": [
    "### 2.1.1 How to make a external module importable externally (w/o code change)"
   ]
  },
  {
   "cell_type": "code",
   "execution_count": 31,
   "metadata": {
    "collapsed": false,
    "deletable": true,
    "editable": true
   },
   "outputs": [
    {
     "name": "stdout",
     "output_type": "stream",
     "text": [
      "hello_pycon.py\r\n"
     ]
    }
   ],
   "source": [
    "!ls import_hook_lib"
   ]
  },
  {
   "cell_type": "markdown",
   "metadata": {
    "deletable": true,
    "editable": true
   },
   "source": [
    "1) by `$PYTHONPATH`/sys.path"
   ]
  },
  {
   "cell_type": "code",
   "execution_count": 38,
   "metadata": {
    "collapsed": false,
    "deletable": true,
    "editable": true
   },
   "outputs": [
    {
     "name": "stdout",
     "output_type": "stream",
     "text": [
      "hello pycon!\n"
     ]
    }
   ],
   "source": [
    "import sys\n",
    "sys.path.append('./import_hook_lib')\n",
    "\n",
    "import hello_pycon"
   ]
  },
  {
   "cell_type": "markdown",
   "metadata": {
    "deletable": true,
    "editable": true
   },
   "source": [
    "2) via site.py"
   ]
  },
  {
   "cell_type": "code",
   "execution_count": 1,
   "metadata": {
    "collapsed": false,
    "deletable": true,
    "editable": true
   },
   "outputs": [
    {
     "name": "stdout",
     "output_type": "stream",
     "text": [
      "hello pycon!\n"
     ]
    }
   ],
   "source": [
    "import site\n",
    "site.addsitedir('./import_hook_lib')\n",
    "\n",
    "import hello_pycon"
   ]
  },
  {
   "cell_type": "markdown",
   "metadata": {
    "deletable": true,
    "editable": true
   },
   "source": [
    "More about **site-packages**:\n",
    "\n",
    "1. `sitecustomize.py` in `$PYTHONPATH` will be loaded automatically when Python startup.\n",
    "2. `*.pth` in `site-packages` dir will be loaded automatically when Python startup.\n",
    "\n",
    "```bash\n",
    "$ ls ./import_hook_lib\n",
    "pycon.pth    sitecustomize.py\n",
    "$ cat sitecustomize.py\n",
    "import site\n",
    "site.addsitedir('/home/ubuntu/python-hooking/import_hook_lib`)\n",
    "$ cat pycon.pth\n",
    "print 'pycon'\n",
    "$ export PYTHONPATH=`/home/ubuntu/python-hooking/import_hook_lib`:$PYTHONPATH\n",
    "$ python -c \"pass\"\n",
    "pycon\n",
    "```"
   ]
  },
  {
   "cell_type": "markdown",
   "metadata": {
    "deletable": true,
    "editable": true
   },
   "source": [
    "### 2.1.2 How many ways to import a library?"
   ]
  },
  {
   "cell_type": "markdown",
   "metadata": {
    "deletable": true,
    "editable": true
   },
   "source": [
    "**method 1. import keyword**"
   ]
  },
  {
   "cell_type": "code",
   "execution_count": 2,
   "metadata": {
    "collapsed": false,
    "deletable": true,
    "editable": true
   },
   "outputs": [
    {
     "name": "stdout",
     "output_type": "stream",
     "text": [
      "load me: I'm loaded!\n"
     ]
    }
   ],
   "source": [
    "import load_me"
   ]
  },
  {
   "cell_type": "markdown",
   "metadata": {
    "deletable": true,
    "editable": true
   },
   "source": [
    "**method 2. use `__import__` function**"
   ]
  },
  {
   "cell_type": "code",
   "execution_count": 1,
   "metadata": {
    "collapsed": false,
    "deletable": true,
    "editable": true
   },
   "outputs": [
    {
     "name": "stdout",
     "output_type": "stream",
     "text": [
      "load me: I'm loaded!\n"
     ]
    }
   ],
   "source": [
    "load_me = __import__('load_me')"
   ]
  },
  {
   "cell_type": "markdown",
   "metadata": {
    "deletable": true,
    "editable": true
   },
   "source": [
    "**method 3. use imp**\n",
    "\n",
    "could by pass sys.modules, import\n",
    "(deprecated in Py3 by `importlib`, `importlib.reload`)"
   ]
  },
  {
   "cell_type": "code",
   "execution_count": 4,
   "metadata": {
    "collapsed": false,
    "deletable": true,
    "editable": true
   },
   "outputs": [
    {
     "name": "stdout",
     "output_type": "stream",
     "text": [
      "load me: I'm loaded!\n"
     ]
    }
   ],
   "source": [
    "import imp\n",
    "\n",
    "name = 'load_me'\n",
    "fp, pathname, description = imp.find_module(name)\n",
    "try:\n",
    "    json = imp.load_module(name, fp, pathname, description)\n",
    "finally:\n",
    "    if fp:\n",
    "        fp.close()\n",
    "    \n",
    "# note: the module is loaded again"
   ]
  },
  {
   "cell_type": "markdown",
   "metadata": {
    "deletable": true,
    "editable": true
   },
   "source": [
    "**method 4. use importlib**\n",
    "\n",
    "replace imp in Py3 (recommended in Py3 than `__import__`)"
   ]
  },
  {
   "cell_type": "code",
   "execution_count": 1,
   "metadata": {
    "collapsed": false,
    "deletable": true,
    "editable": true
   },
   "outputs": [
    {
     "name": "stdout",
     "output_type": "stream",
     "text": [
      "load me: I'm loaded!\n"
     ]
    }
   ],
   "source": [
    "import importlib\n",
    "json = importlib.import_module('load_me')"
   ]
  },
  {
   "cell_type": "markdown",
   "metadata": {
    "deletable": true,
    "editable": true
   },
   "source": [
    "### 2.1.3 How to audit module importing?"
   ]
  },
  {
   "cell_type": "markdown",
   "metadata": {
    "deletable": true,
    "editable": true
   },
   "source": [
    "**How to monitor those importing?**\n",
    "\n",
    "\n",
    "```python\n",
    "import md5\n",
    "import json\n",
    "import socket\n"
   ]
  },
  {
   "cell_type": "markdown",
   "metadata": {
    "deletable": true,
    "editable": true
   },
   "source": [
    "> Hook `__import__`\n",
    "\n",
    "Won't work in IPython, IPython already hooked `__import__`"
   ]
  },
  {
   "cell_type": "markdown",
   "metadata": {
    "deletable": true,
    "editable": true
   },
   "source": [
    "```python\n",
    "real_importer = __import__\n",
    "\n",
    "def my_importer(*args, **kwargs):\n",
    "    print(\"** importing: \" + args[0])\n",
    "    return real_importer(*args, **kwargs)\n",
    "\n",
    "\n",
    "\n",
    "__builtins__.__import__ = my_importer\n",
    "\n",
    "import os\n",
    "import importlib\n",
    "import imp\n",
    "\n",
    "importlib.import_module('json')\n",
    "\n",
    "\n",
    "def imp_load(name):\n",
    "    fp, pathname, description = imp.find_module(name)\n",
    "    try:\n",
    "        json = imp.load_module(name, fp, pathname, description)\n",
    "    finally:\n",
    "        if fp:\n",
    "            fp.close()\n",
    "\n",
    "imp_load('load_me')\n",
    "\n",
    "```\n",
    "\n",
    "import, importlib are hooked, imp is NOT hooked."
   ]
  },
  {
   "cell_type": "markdown",
   "metadata": {
    "deletable": true,
    "editable": true
   },
   "source": [
    "### 2.1.4 How to replace installed module with local version?"
   ]
  },
  {
   "cell_type": "markdown",
   "metadata": {
    "deletable": true,
    "editable": true
   },
   "source": [
    "add `sys.path`"
   ]
  },
  {
   "cell_type": "code",
   "execution_count": 1,
   "metadata": {
    "collapsed": false,
    "deletable": true,
    "editable": true
   },
   "outputs": [
    {
     "name": "stdout",
     "output_type": "stream",
     "text": [
      "def urlopen(*args, **kwargs):\r\n",
      "    print(\"dummy urlopen: {}\".format(str(args)))\r\n",
      "    print(\"** do something cool **\")\r\n",
      "    return args[0]\r\n"
     ]
    }
   ],
   "source": [
    "! cat import_hook_lib/urllib2.py"
   ]
  },
  {
   "cell_type": "code",
   "execution_count": 3,
   "metadata": {
    "collapsed": false,
    "deletable": true,
    "editable": true
   },
   "outputs": [
    {
     "name": "stdout",
     "output_type": "stream",
     "text": [
      "dummy urlopen: ('http://localhost:8888/notebooks',)\n",
      "** do something cool **\n"
     ]
    },
    {
     "data": {
      "text/plain": [
       "'http://localhost:8888/notebooks'"
      ]
     },
     "execution_count": 3,
     "metadata": {},
     "output_type": "execute_result"
    }
   ],
   "source": [
    "import sys\n",
    "sys.path.insert(0, './import_hook_lib')\n",
    "\n",
    "# urllib2 module is hooked.\n",
    "\n",
    "import urllib2\n",
    "urllib2.urlopen('http://localhost:8888/notebooks')"
   ]
  },
  {
   "cell_type": "markdown",
   "metadata": {
    "deletable": true,
    "editable": true
   },
   "source": [
    "### 2.1.5 How to import a non-existing module by providing temporary ones"
   ]
  },
  {
   "cell_type": "code",
   "execution_count": 4,
   "metadata": {
    "collapsed": false,
    "deletable": true,
    "editable": true
   },
   "outputs": [
    {
     "ename": "ImportError",
     "evalue": "No module named pycon2016",
     "output_type": "error",
     "traceback": [
      "\u001b[0;31m---------------------------------------------------------------------------\u001b[0m",
      "\u001b[0;31mImportError\u001b[0m                               Traceback (most recent call last)",
      "\u001b[0;32m<ipython-input-4-50c286086523>\u001b[0m in \u001b[0;36m<module>\u001b[0;34m()\u001b[0m\n\u001b[1;32m      3\u001b[0m         \u001b[0;32mreturn\u001b[0m \u001b[0;34m\"hello PyCon China 2016!\"\u001b[0m\u001b[0;34m\u001b[0m\u001b[0m\n\u001b[1;32m      4\u001b[0m \u001b[0;34m\u001b[0m\u001b[0m\n\u001b[0;32m----> 5\u001b[0;31m \u001b[0;32mimport\u001b[0m \u001b[0mpycon2016\u001b[0m \u001b[0;31m# if not exist, provide a object of PyCon()\u001b[0m\u001b[0;34m\u001b[0m\u001b[0m\n\u001b[0m",
      "\u001b[0;31mImportError\u001b[0m: No module named pycon2016"
     ]
    }
   ],
   "source": [
    "class PyCon(object):\n",
    "    def __str__(self):\n",
    "        return \"hello PyCon China 2016!\"\n",
    "    \n",
    "import pycon2016 # if not exist, provide a object of PyCon()"
   ]
  },
  {
   "cell_type": "markdown",
   "metadata": {
    "deletable": true,
    "editable": true
   },
   "source": [
    "hook `sys.meta_path`\n",
    "\n",
    "Yet, another hooking method as `__import__`"
   ]
  },
  {
   "cell_type": "code",
   "execution_count": 2,
   "metadata": {
    "collapsed": false,
    "deletable": true,
    "editable": true
   },
   "outputs": [
    {
     "name": "stdout",
     "output_type": "stream",
     "text": [
      "Imorting: mailbox\n",
      "Imorting: mailbox\n",
      "Imorting: email.generator\n",
      "Imorting: email.generator\n",
      "Imorting: email.header\n",
      "Imorting: email.header\n",
      "Imorting: rfc822\n",
      "Imorting: rfc822\n"
     ]
    }
   ],
   "source": [
    "import sys\n",
    "\n",
    "class Watcher(object):\n",
    "    @classmethod\n",
    "    def find_module(cls, name, path, target=None):\n",
    "        print(\"Imorting: {}\".format(name))\n",
    "        return None # Note: bypass to other Finder/Loader\n",
    "\n",
    "# insert into sys.meta_path\n",
    "sys.meta_path.insert(0, Watcher)\n",
    "\n",
    "# test\n",
    "import mailbox"
   ]
  },
  {
   "cell_type": "code",
   "execution_count": 1,
   "metadata": {
    "collapsed": false,
    "deletable": true,
    "editable": true
   },
   "outputs": [
    {
     "name": "stdout",
     "output_type": "stream",
     "text": [
      "hello PyCon China 2016!\n"
     ]
    }
   ],
   "source": [
    "import sys\n",
    "\n",
    "# note the PyCon class\n",
    "class PyCon(object):\n",
    "    def __str__(self):\n",
    "        return \"hello PyCon China 2016!\"\n",
    "\n",
    "class MyModuleLoader(object):\n",
    "    @classmethod\n",
    "    def find_module(cls, name, path, target=None):\n",
    "        if name == 'pycon2016':\n",
    "            return cls # Note\n",
    "        return None\n",
    "\n",
    "    @classmethod\n",
    "    def load_module(cls, name):\n",
    "        if name == 'pycon2016':\n",
    "            return PyCon()\n",
    "        raise ImportError(\"pycon\")\n",
    "\n",
    "# insert into sys.meta_path\n",
    "sys.meta_path.insert(0, MyModuleLoader)\n",
    "\n",
    "# test\n",
    "import pycon2016\n",
    "print pycon2016"
   ]
  },
  {
   "cell_type": "markdown",
   "metadata": {
    "deletable": true,
    "editable": true
   },
   "source": [
    "### 2.1.6 How to support a remote virtual repo in sys.path?"
   ]
  },
  {
   "cell_type": "markdown",
   "metadata": {
    "deletable": true,
    "editable": true
   },
   "source": [
    "```python\n",
    "import sys\n",
    "sys.path.append(\"box://mycompany.repo.com/repo/team\")\n",
    "\n",
    "import some_module # automatically import the some_module from box repo\n",
    "```\n",
    "\n",
    "**hook `sys.path_hook`**\n",
    "\n",
    "for specific file path, folder or repo (e.g. zip)"
   ]
  },
  {
   "cell_type": "code",
   "execution_count": 2,
   "metadata": {
    "collapsed": false,
    "deletable": true,
    "editable": true
   },
   "outputs": [
    {
     "data": {
      "text/plain": [
       "[zipimport.zipimporter]"
      ]
     },
     "execution_count": 2,
     "metadata": {},
     "output_type": "execute_result"
    }
   ],
   "source": [
    "import sys\n",
    "sys.path_hooks"
   ]
  },
  {
   "cell_type": "code",
   "execution_count": 3,
   "metadata": {
    "collapsed": false,
    "deletable": true,
    "editable": true
   },
   "outputs": [
    {
     "data": {
      "text/plain": [
       "[]"
      ]
     },
     "execution_count": 3,
     "metadata": {},
     "output_type": "execute_result"
    }
   ],
   "source": [
    "[p for p in sys.path if 'zip' in p] # note the zip file"
   ]
  },
  {
   "cell_type": "markdown",
   "metadata": {
    "deletable": true,
    "editable": true
   },
   "source": [
    "**Examples: one path hook to support lib hosted on remote repo (e.g. AWS s3)**"
   ]
  },
  {
   "cell_type": "code",
   "execution_count": 4,
   "metadata": {
    "collapsed": true,
    "deletable": true,
    "editable": true
   },
   "outputs": [],
   "source": [
    "import sys\n",
    "\n",
    "class Dummy(object):\n",
    "    def __str__(self):\n",
    "        return \"Hello PyCon 2016\"\n",
    "\n",
    "class S3ImportParser(object):\n",
    "    KEY = 's3://'\n",
    "    def __init__(self, path_entry):\n",
    "        if path_entry.startswith(self.KEY):\n",
    "            print \"Handle: \" + path_entry\n",
    "            self.path_repo = path_entry\n",
    "            return\n",
    "\n",
    "        # raise ImportError means passing to other Loader\n",
    "        raise ImportError()\n",
    "\n",
    "    def find_module(self, fullname, path=None):\n",
    "        print 'Search for \"%s\" on %s' % (fullname, self.path_repo)\n",
    "        return self\n",
    "        \n",
    "    def load_module(self, fullname):\n",
    "        print 'Load for \"%s\"' % fullname\n",
    "        return Dummy()\n",
    "    \n",
    "    \n",
    "# test\n",
    "sys.path_hooks.append(S3ImportParser)\n",
    "\n",
    "# suppose there's a S3 repo in sys.path\n",
    "sys.path.append(\"s3://mycompany.repo.com/repo/team\")\n",
    "\n",
    "import some_module\n",
    "\n",
    "print \"-\" * 30\n",
    "print str(some_module)"
   ]
  },
  {
   "cell_type": "markdown",
   "metadata": {
    "deletable": true,
    "editable": true
   },
   "source": [
    "### 2.2 System Hook"
   ]
  },
  {
   "cell_type": "markdown",
   "metadata": {
    "deletable": true,
    "editable": true
   },
   "source": [
    "### 2.2.1 How to hook system exit event and do some clean-up"
   ]
  },
  {
   "cell_type": "markdown",
   "metadata": {
    "collapsed": true,
    "deletable": true,
    "editable": true
   },
   "source": [
    "**exit hook - atexit**"
   ]
  },
  {
   "cell_type": "markdown",
   "metadata": {
    "deletable": true,
    "editable": true
   },
   "source": [
    "cat ./sys_hook/exit_hook.py\n",
    "\n",
    "```python\n",
    "from threading import Thread, current_thread\n",
    "\n",
    "import atexit\n",
    "\n",
    "def exit0(*args, **kwarg):\n",
    "    print '** exit0', current_thread().getName(), args, kwarg\n",
    "\n",
    "def exit1():\n",
    "    print '** exit1', current_thread().getName()\n",
    "    raise Exception, 'exit1'\n",
    "\n",
    "def exit2():\n",
    "    print '** exit2' , current_thread().getName()\n",
    "\n",
    "\n",
    "atexit.register(exit0, 1, 2, a=1)\n",
    "atexit.register(exit1)\n",
    "atexit.register(exit2)\n",
    "\n",
    "@atexit.register\n",
    "def exit3():\n",
    "    print '** exit3', current_thread().getName()\n",
    "\n",
    "if __name__ == '__main__':\n",
    "    print '** main', current_thread().getName()\n",
    "```"
   ]
  },
  {
   "cell_type": "code",
   "execution_count": 7,
   "metadata": {
    "collapsed": false,
    "deletable": true,
    "editable": true
   },
   "outputs": [
    {
     "name": "stdout",
     "output_type": "stream",
     "text": [
      "** main MainThread\r\n",
      "** exit3 Dummy-1\r\n",
      "** exit2 Dummy-1\r\n",
      "** exit1 Dummy-1\r\n",
      "Error in atexit._run_exitfuncs:\r\n",
      "Traceback (most recent call last):\r\n",
      "  File \"/usr/lib/python2.7/atexit.py\", line 24, in _run_exitfuncs\r\n",
      "    func(*targs, **kargs)\r\n",
      "  File \"./sys_hook/exit_hook.py\", line 11, in exit1\r\n",
      "    raise Exception, 'exit1'\r\n",
      "Exception: exit1\r\n",
      "** exit0 Dummy-1 (1, 2) {'a': 1}\r\n",
      "Error in sys.exitfunc:\r\n",
      "Traceback (most recent call last):\r\n",
      "  File \"/usr/lib/python2.7/atexit.py\", line 24, in _run_exitfuncs\r\n",
      "    func(*targs, **kargs)\r\n",
      "  File \"./sys_hook/exit_hook.py\", line 11, in exit1\r\n",
      "    raise Exception, 'exit1'\r\n",
      "Exception: exit1\r\n"
     ]
    }
   ],
   "source": [
    "!python ./sys_hook/exit_hook.py"
   ]
  },
  {
   "cell_type": "markdown",
   "metadata": {
    "deletable": true,
    "editable": true
   },
   "source": [
    "**Note**:\n",
    "\n",
    "1. Sequence: LIFO\n",
    "2. Threading Context: dummy-1\n",
    "3. Exception: overcome\n",
    "4. parameters"
   ]
  },
  {
   "cell_type": "markdown",
   "metadata": {
    "deletable": true,
    "editable": true
   },
   "source": [
    "### 2.2.2 How to know if some specific exceptions happens"
   ]
  },
  {
   "cell_type": "markdown",
   "metadata": {
    "deletable": true,
    "editable": true
   },
   "source": [
    "`sys.settrace`\n",
    "\n",
    "**capture all system events**\n",
    "\n",
    "Examples: capture all exception events"
   ]
  },
  {
   "cell_type": "code",
   "execution_count": 1,
   "metadata": {
    "collapsed": false,
    "deletable": true,
    "editable": true
   },
   "outputs": [
    {
     "name": "stdout",
     "output_type": "stream",
     "text": [
      "capture exception:  <type 'exceptions.KeyError'> ('abc',)\n",
      "----------------------------------------\n",
      "***complete import:  md_exception.py\n"
     ]
    }
   ],
   "source": [
    "import sys, traceback\n",
    "stop = False\n",
    "def trace(frame, event, args):\n",
    "    if stop:\n",
    "        return\n",
    "\n",
    "    if event == \"exception\":\n",
    "        print \"capture exception: \", args[0], args[1]\n",
    "        print \"----\" * 10\n",
    "\n",
    "    return trace\n",
    "    \n",
    "sys.settrace(trace)\n",
    "\n",
    "import md_exception\n",
    "\n",
    "stop = True"
   ]
  },
  {
   "cell_type": "markdown",
   "metadata": {
    "deletable": true,
    "editable": true
   },
   "source": [
    "## 3. Language Level Hook (syntax sugar)"
   ]
  },
  {
   "cell_type": "markdown",
   "metadata": {
    "deletable": true,
    "editable": true
   },
   "source": [
    "### 3.1 How to control a block's enter and exit\n",
    "\n",
    "> logging, timer, resource control etc."
   ]
  },
  {
   "cell_type": "markdown",
   "metadata": {
    "deletable": true,
    "editable": true
   },
   "source": [
    "**Context Manager**\n",
    "\n",
    "Provide hook a \"Enter\" especially \"Exit\" event for a block of code"
   ]
  },
  {
   "cell_type": "code",
   "execution_count": 10,
   "metadata": {
    "collapsed": true,
    "deletable": true,
    "editable": true
   },
   "outputs": [],
   "source": [
    "import time\n",
    "\n",
    "class MyTimer(object):\n",
    "    def __init__(self, tag='default'):\n",
    "        self.tag = tag\n",
    "        \n",
    "    def __enter__(self,):\n",
    "        self.start = time.time()\n",
    "        \n",
    "    def __exit__(self, exc, val, trace):\n",
    "        self.end = time.time()\n",
    "        print '*** performance for \"' + self.tag + '\" ***'\n",
    "        print \" {} seconds\".format(self.end - self.start)\n",
    "        return True"
   ]
  },
  {
   "cell_type": "code",
   "execution_count": 11,
   "metadata": {
    "collapsed": false,
    "deletable": true,
    "editable": true
   },
   "outputs": [
    {
     "name": "stdout",
     "output_type": "stream",
     "text": [
      "*** performance for \"function call\" ***\n",
      " 9.50240397453 seconds\n",
      "------------------------------\n",
      "*** performance for \"function call with try block\" ***\n",
      " 9.74168086052 seconds\n"
     ]
    }
   ],
   "source": [
    "def test1(x, max):\n",
    "    try:\n",
    "        1/(max-x-1)\n",
    "    except ZeroDivisionError as e:\n",
    "        raise\n",
    "        \n",
    "def test2(x, max):\n",
    "    1/(max-x-1)\n",
    "    \n",
    "with MyTimer(\"function call\"):\n",
    "    for x in range(10000000):\n",
    "        test1(x, 10000000)\n",
    "        \n",
    "print \"-\" * 30\n",
    "    \n",
    "with MyTimer(\"function call with try block\"):\n",
    "    try:\n",
    "        for x in range(10000000):\n",
    "            test2(x, 10000000)\n",
    "    except ZeroDivisionError as ex:\n",
    "        raise"
   ]
  },
  {
   "cell_type": "markdown",
   "metadata": {
    "deletable": true,
    "editable": true
   },
   "source": [
    "**Note:**\n",
    "\n",
    "1. `__exit__` is called even exception happens (return True to overcome)\n",
    "2. quite suitable for resource management and scope management"
   ]
  },
  {
   "cell_type": "markdown",
   "metadata": {
    "deletable": true,
    "editable": true
   },
   "source": [
    "### 3.2 Magic Methods"
   ]
  },
  {
   "cell_type": "markdown",
   "metadata": {
    "deletable": true,
    "editable": true
   },
   "source": [
    "> Provide hook all kinds of operations around an object\n",
    "\n",
    "![Magic Method](media/MagicMethod.png)"
   ]
  },
  {
   "cell_type": "markdown",
   "metadata": {
    "deletable": true,
    "editable": true
   },
   "source": [
    "### 3.2.1 How to support \"Lazy property\" via chain calling"
   ]
  },
  {
   "cell_type": "markdown",
   "metadata": {
    "deletable": true,
    "editable": true
   },
   "source": [
    "```python\n",
    "# Note: consider a 10GB table\n",
    "students = AzureTable('user1.storage.azure.com/table/students')\n",
    "\n",
    "# Only get the data when be accessed\n",
    "print students.xiaoMing.Address.data\n",
    "print students.Jim.birthday.data\n",
    "```"
   ]
  },
  {
   "cell_type": "code",
   "execution_count": 2,
   "metadata": {
    "collapsed": false,
    "deletable": true,
    "editable": true
   },
   "outputs": [
    {
     "name": "stdout",
     "output_type": "stream",
     "text": [
      "*** Downloading from\n",
      "\t\"user1.storage.azure.com/table/students/xiaoMing/Address\"\n",
      "*** Downloading Complete\n",
      "Hello PyCon 2016: xiaoMing.Address\n",
      "------------------------------\n",
      "*** Downloading from\n",
      "\t\"user1.storage.azure.com/table/students/Jim/birthday\"\n",
      "*** Downloading Complete\n",
      "Hello PyCon 2016: Jim.birthday\n"
     ]
    }
   ],
   "source": [
    "class AzureTable(object):\n",
    "    def __init__(self, url, row=None, col=None, level='table'):\n",
    "        self.__url = url\n",
    "        self.__row = row\n",
    "        self.__col = col\n",
    "        self.__level = level\n",
    "\n",
    "    def _fetch(self):\n",
    "        print '*** Downloading from\\n\\t\"{}/{}/{}\"'.format(self.__url,\n",
    "                                                          self.__row,\n",
    "                                                          self.__col)\n",
    "        print '*** Downloading Complete'\n",
    "        return \"Hello PyCon 2016: {}.{}\".format(self.__row, self.__col)\n",
    "\n",
    "    def __getattr__(self, item):\n",
    "        if self.__level == 'table':\n",
    "            return AzureTable(self.__url, row=item, level='row')\n",
    "        elif self.__level == 'row':\n",
    "            return AzureTable(self.__url, row=self.__row, col=item, level='col')\n",
    "\n",
    "        if item == 'data':\n",
    "            return self._fetch()\n",
    "\n",
    "students = AzureTable('user1.storage.azure.com/table/students')\n",
    "print students.xiaoMing.Address.data\n",
    "print \"-\" * 30\n",
    "print students.Jim.birthday.data"
   ]
  },
  {
   "cell_type": "markdown",
   "metadata": {
    "deletable": true,
    "editable": true
   },
   "source": [
    "### 3.2.2 How to auditting property access for an 3rd party object and how to provide default value for 3rd party object with limited `__slot__`?"
   ]
  },
  {
   "cell_type": "code",
   "execution_count": 4,
   "metadata": {
    "collapsed": false,
    "deletable": true,
    "editable": true
   },
   "outputs": [
    {
     "name": "stdout",
     "output_type": "stream",
     "text": [
      "1\n",
      "2\n"
     ]
    }
   ],
   "source": [
    "from collections import namedtuple\n",
    "\n",
    "Point = namedtuple('Point', ['x', 'y'])\n",
    "\n",
    "p = Point(x=1, y=2)\n",
    "\n",
    "print p.x # How to monitor the access?\n",
    "print p.y\n",
    "\n",
    "# print p.z # How to provide default value?\n",
    "# p.z = 10 # Note: cannot do this!"
   ]
  },
  {
   "cell_type": "code",
   "execution_count": 5,
   "metadata": {
    "collapsed": false,
    "deletable": true,
    "editable": true
   },
   "outputs": [
    {
     "name": "stdout",
     "output_type": "stream",
     "text": [
      "** accessing :x\n",
      "1\n",
      "** accessing :y\n",
      "2\n",
      "** accessing :z\n",
      "** handling :z\n",
      "z\n"
     ]
    }
   ],
   "source": [
    "from collections import namedtuple\n",
    "Point = namedtuple('Point', ['x', 'y'])\n",
    "\n",
    "def monitor(self, item):\n",
    "    print \"** accessing :\" + item\n",
    "    return super(Point, self).__getattribute__(item)\n",
    "\n",
    "Point.__getattribute__ = monitor\n",
    "\n",
    "p = Point(x=1, y=2)\n",
    "print p.x\n",
    "print p.y\n",
    "\n",
    "def handle_non_exist(self, item):\n",
    "    print \"** handling :\" + item\n",
    "    return str(item)\n",
    "\n",
    "Point.__getattr__ = handle_non_exist\n",
    "\n",
    "print p.z"
   ]
  },
  {
   "cell_type": "markdown",
   "metadata": {
    "deletable": true,
    "editable": true
   },
   "source": [
    "### 3.2.3 How to validate property value setting for an object transparently?"
   ]
  },
  {
   "cell_type": "markdown",
   "metadata": {
    "deletable": true,
    "editable": true
   },
   "source": [
    "**Descriptors**\n",
    "\n",
    "```python\n",
    "p = People(age=1, height=200) # allow\n",
    "p.age = 10 # allow!\n",
    "p = People(age=-1, height=200) # disallow!\n",
    "p.age = 0 # disallow!\n",
    "```\n",
    "\n",
    "Descriptor is a more low-granularity acess control"
   ]
  },
  {
   "cell_type": "code",
   "execution_count": 10,
   "metadata": {
    "collapsed": false,
    "deletable": true,
    "editable": true
   },
   "outputs": [
    {
     "ename": "ValueError",
     "evalue": "value is out of range",
     "output_type": "error",
     "traceback": [
      "\u001b[0;31m---------------------------------------------------------------------------\u001b[0m",
      "\u001b[0;31mValueError\u001b[0m                                Traceback (most recent call last)",
      "\u001b[0;32m<ipython-input-10-5d182522e74e>\u001b[0m in \u001b[0;36m<module>\u001b[0;34m()\u001b[0m\n\u001b[1;32m     28\u001b[0m \u001b[0;31m# Demo: do some typing here\u001b[0m\u001b[0;34m\u001b[0m\u001b[0;34m\u001b[0m\u001b[0m\n\u001b[1;32m     29\u001b[0m \u001b[0;34m\u001b[0m\u001b[0m\n\u001b[0;32m---> 30\u001b[0;31m \u001b[0mp\u001b[0m\u001b[0;34m.\u001b[0m\u001b[0mage\u001b[0m \u001b[0;34m=\u001b[0m \u001b[0;36m0\u001b[0m\u001b[0;34m\u001b[0m\u001b[0m\n\u001b[0m\u001b[1;32m     31\u001b[0m \u001b[0;31m# p = People(age=-1, height=200)\u001b[0m\u001b[0;34m\u001b[0m\u001b[0;34m\u001b[0m\u001b[0m\n\u001b[1;32m     32\u001b[0m \u001b[0;31m# del p.age\u001b[0m\u001b[0;34m\u001b[0m\u001b[0;34m\u001b[0m\u001b[0m\n",
      "\u001b[0;32m<ipython-input-10-5d182522e74e>\u001b[0m in \u001b[0;36m__set__\u001b[0;34m(self, obj, val)\u001b[0m\n\u001b[1;32m     11\u001b[0m             \u001b[0mself\u001b[0m\u001b[0;34m.\u001b[0m\u001b[0mval\u001b[0m \u001b[0;34m=\u001b[0m \u001b[0mval\u001b[0m\u001b[0;34m\u001b[0m\u001b[0m\n\u001b[1;32m     12\u001b[0m         \u001b[0;32melse\u001b[0m\u001b[0;34m:\u001b[0m\u001b[0;34m\u001b[0m\u001b[0m\n\u001b[0;32m---> 13\u001b[0;31m             \u001b[0;32mraise\u001b[0m \u001b[0mValueError\u001b[0m\u001b[0;34m(\u001b[0m\u001b[0;34m\"value is out of range\"\u001b[0m\u001b[0;34m)\u001b[0m\u001b[0;34m\u001b[0m\u001b[0m\n\u001b[0m\u001b[1;32m     14\u001b[0m     \u001b[0;31m# def __delete__(...)\u001b[0m\u001b[0;34m\u001b[0m\u001b[0;34m\u001b[0m\u001b[0m\n\u001b[1;32m     15\u001b[0m \u001b[0;34m\u001b[0m\u001b[0m\n",
      "\u001b[0;31mValueError\u001b[0m: value is out of range"
     ]
    }
   ],
   "source": [
    "class IntegerProperty(object):\n",
    "    def __init__(self, mi=None, mx=None):\n",
    "        self.min = mi\n",
    "        self.max = mx\n",
    "\n",
    "    def __get__(self, obj, objtype):\n",
    "        return self.val\n",
    "\n",
    "    def __set__(self, obj, val):\n",
    "        if (self.min is None or self.min <= val) \\\n",
    "            and (self.max is None or val <= self.max):\n",
    "            self.val = val\n",
    "        else:\n",
    "            raise ValueError(\"value is out of range\")\n",
    "    # def __delete__(...)\n",
    "\n",
    "\n",
    "class People(object):\n",
    "    age = IntegerProperty(1, 130)\n",
    "    height = IntegerProperty(1, 230)\n",
    "\n",
    "    def __init__(self, age, height):\n",
    "        self.age = age\n",
    "        self.height = height\n",
    "\n",
    "p = People(age=1, height=200)\n",
    "p.age = 10\n",
    "\n",
    "# Demo: do some typing here\n",
    "\n",
    "p.age = 0\n",
    "# p = People(age=-1, height=200)\n",
    "# del p.age"
   ]
  },
  {
   "cell_type": "markdown",
   "metadata": {
    "deletable": true,
    "editable": true
   },
   "source": [
    "### 3.2.4 Operator overwritting"
   ]
  },
  {
   "cell_type": "markdown",
   "metadata": {
    "deletable": true,
    "editable": true
   },
   "source": [
    "### Example 1. How to support Scala Lambda in Python\n",
    "\n",
    "```python\n",
    "map(_ * 2, xrange(4))\n",
    "# get: [0, 2, 4, 6]\n",
    "\n",
    "map(10 + _, xrange(4))\n",
    "# get: [10, 11, 12, 13]\n",
    "```"
   ]
  },
  {
   "cell_type": "code",
   "execution_count": 11,
   "metadata": {
    "collapsed": false,
    "deletable": true,
    "editable": true
   },
   "outputs": [
    {
     "name": "stdout",
     "output_type": "stream",
     "text": [
      "[0, 2, 4, 6]\n",
      "[10, 11, 12, 13]\n"
     ]
    }
   ],
   "source": [
    "class Call(object):\n",
    "    def __mul__(self, other):\n",
    "        return lambda a: a * other\n",
    "\n",
    "    def __radd__(self, other):\n",
    "        return lambda a: a + other\n",
    "\n",
    "_ = Call()\n",
    "\n",
    "print map(_ * 2, xrange(4))\n",
    "print map(10 + _, xrange(4))"
   ]
  },
  {
   "cell_type": "markdown",
   "metadata": {
    "deletable": true,
    "editable": true
   },
   "source": [
    "### Example 2. How to support stream stype workflow operation?\n",
    "\n",
    "```python\n",
    "t1, t2, t3, t4, t5, t6, t7 = (Task('t' + str(x)) for x in range(1,8))\n",
    "\n",
    "t1 >> t2 >> t3 >> t4\n",
    "t2 >> t5 >> t6\n",
    "t1 >> t7\n",
    "\n",
    "Dag.draw_dag(t1)\n",
    "\n",
    "# get:\n",
    "\"\"\"\n",
    "    + t1\n",
    "        + t2\n",
    "            + t3\n",
    "                + t4\n",
    "            + t5\n",
    "                + t6\n",
    "        + t7\n",
    "\"\"\"\n",
    "```"
   ]
  },
  {
   "cell_type": "code",
   "execution_count": 13,
   "metadata": {
    "collapsed": false,
    "deletable": true,
    "editable": true
   },
   "outputs": [
    {
     "name": "stdout",
     "output_type": "stream",
     "text": [
      "     + t1\n",
      "         + t2\n",
      "             + t3\n",
      "                 + t4\n",
      "             + t5\n",
      "                 + t6\n",
      "         + t7\n"
     ]
    }
   ],
   "source": [
    "class Task(object):\n",
    "    def __init__(self, name):\n",
    "        self.name = name\n",
    "        self.post_tasks = []\n",
    "\n",
    "    def __rshift__(self, task):\n",
    "        self.post_tasks.append(task)\n",
    "        return task\n",
    "\n",
    "    def __str__(self):\n",
    "        return self.name\n",
    "\n",
    "\n",
    "t1, t2, t3, t4, t5, t6, t7 = (Task('t' + str(x)) for x in range(1,8))\n",
    "t1 >> t2 >> t3 >> t4\n",
    "t2 >> t5 >> t6\n",
    "t1 >> t7\n",
    "\n",
    "class Dag(object):\n",
    "    @staticmethod\n",
    "    def draw_task(task, level):\n",
    "        print \"    \" * (level + 1) + \" + \" + str(task)\n",
    "\n",
    "    @staticmethod\n",
    "    def draw_dag(task, level=0):\n",
    "        Dag.draw_task(task, level)\n",
    "        for n in task.post_tasks:\n",
    "            Dag.draw_dag(n, level+1)\n",
    "            \n",
    "Dag.draw_dag(t1)"
   ]
  },
  {
   "cell_type": "markdown",
   "metadata": {
    "deletable": true,
    "editable": true
   },
   "source": [
    "### 3.3.1 How to monitor function calling and do something like logging, timing?"
   ]
  },
  {
   "cell_type": "code",
   "execution_count": 15,
   "metadata": {
    "collapsed": false,
    "deletable": true,
    "editable": true
   },
   "outputs": [
    {
     "name": "stdout",
     "output_type": "stream",
     "text": [
      "+ Enter \"do_job\"\n",
      "Hello PyCon 2016 China!\n",
      "+ Exit \"do_job\"\n",
      "* Time consumed: 0.501806020737 seconds\n"
     ]
    }
   ],
   "source": [
    "import wrapt, time\n",
    "\n",
    "def logger(prefix='*'):\n",
    "    @wrapt.decorator\n",
    "    def _logger(fn, instance, args, kwargs):\n",
    "        print '{} Enter \"{}\"'.format(prefix, fn.func_name)\n",
    "        ret = fn(*args, **kwargs)\n",
    "        print '{} Exit \"{}\"'.format(prefix, fn.func_name)\n",
    "        return ret\n",
    "\n",
    "    return _logger\n",
    "\n",
    "@wrapt.decorator\n",
    "def timer(fn, instance, args, kwargs):\n",
    "    t1 = time.time()\n",
    "    ret = fn(*args, **kwargs)\n",
    "    print \"* Time consumed: {} seconds\".format(time.time() - t1)\n",
    "    return ret\n",
    "\n",
    "\n",
    "@timer\n",
    "@logger(\"+\")\n",
    "def do_job():\n",
    "    time.sleep(0.5)\n",
    "    print \"Hello PyCon 2016 China!\"\n",
    "    \n",
    "do_job()"
   ]
  },
  {
   "cell_type": "markdown",
   "metadata": {
    "deletable": true,
    "editable": true
   },
   "source": [
    "### 3.3.2 How to make the function more robust by overcome some exceptions?"
   ]
  },
  {
   "cell_type": "code",
   "execution_count": 16,
   "metadata": {
    "collapsed": false,
    "deletable": true,
    "editable": true
   },
   "outputs": [
    {
     "name": "stdout",
     "output_type": "stream",
     "text": [
      "Hello PyCon 2016 China!\n",
      "# Skip errors: invalid\n"
     ]
    }
   ],
   "source": [
    "import wrapt\n",
    "\n",
    "@wrapt.decorator\n",
    "def ignore_error(fn, instance, args, kwargs):\n",
    "    try:\n",
    "        return fn(*args, **kwargs)\n",
    "    except Exception as e:\n",
    "        print \"# Skip errors: {}\".format(e)\n",
    "\n",
    "@ignore_error\n",
    "def do_job():\n",
    "    print \"Hello PyCon 2016 China!\"\n",
    "    raise ValueError(\"invalid\")\n",
    "    \n",
    "do_job()"
   ]
  },
  {
   "cell_type": "markdown",
   "metadata": {
    "deletable": true,
    "editable": true
   },
   "source": [
    "### 3.3.3 How to add features to some functions like check auth for page rendering?"
   ]
  },
  {
   "cell_type": "code",
   "execution_count": 18,
   "metadata": {
    "collapsed": false,
    "deletable": true,
    "editable": true
   },
   "outputs": [
    {
     "name": "stdout",
     "output_type": "stream",
     "text": [
      "** This is Home Page.\n",
      "**** Permission Denied: <class '__main__.AdminPage'>\n"
     ]
    }
   ],
   "source": [
    "import wrapt\n",
    "@wrapt.decorator\n",
    "def check_auth(fn, instance, args, kwargs):\n",
    "    if getattr(instance, 'need_login', False) \\\n",
    "        and not getattr(instance, 'session_key', ''):\n",
    "        print \"**** Permission Denied: {}\".format(type(instance))\n",
    "        return # Do nothing\n",
    "\n",
    "    return fn(*args, **kwargs)\n",
    "\n",
    "class HomePage(object):\n",
    "    need_login = False\n",
    "\n",
    "    @check_auth\n",
    "    def show(self):\n",
    "        print \"** This is Home Page.\"\n",
    "\n",
    "class AdminPage(object):\n",
    "    need_login = True # check session key\n",
    "    session_key = ''\n",
    "\n",
    "    @check_auth\n",
    "    def show(self):\n",
    "        print \"** This is Admin Page.\"\n",
    "\n",
    "p1 = HomePage()\n",
    "p2 = AdminPage()\n",
    "\n",
    "p1.show()\n",
    "p2.show()"
   ]
  },
  {
   "cell_type": "markdown",
   "metadata": {
    "deletable": true,
    "editable": true
   },
   "source": [
    "### 3.3.4 How to change function behavior: e.g. directly make it dummy?"
   ]
  },
  {
   "cell_type": "code",
   "execution_count": 19,
   "metadata": {
    "collapsed": false,
    "deletable": true,
    "editable": true
   },
   "outputs": [
    {
     "data": {
      "text/plain": [
       "'Do nothing'"
      ]
     },
     "execution_count": 19,
     "metadata": {},
     "output_type": "execute_result"
    }
   ],
   "source": [
    "import wrapt\n",
    "\n",
    "@wrapt.decorator\n",
    "def dummy(fn, instance, args, kwargs):\n",
    "    return \"Do nothing\"\n",
    "\n",
    "@dummy\n",
    "def do_job():\n",
    "    time.sleep(0.5)\n",
    "    print \"Hello PyCon 2016 China!\"\n",
    "\n",
    "do_job()"
   ]
  },
  {
   "cell_type": "markdown",
   "metadata": {
    "deletable": true,
    "editable": true
   },
   "source": [
    "## 3.4 Class Decorator: Provide hook for  class construction/method calling"
   ]
  },
  {
   "cell_type": "markdown",
   "metadata": {
    "deletable": true,
    "editable": true
   },
   "source": [
    "### 3.4.1 How to simply make a class's methods thread-safe"
   ]
  },
  {
   "cell_type": "code",
   "execution_count": 21,
   "metadata": {
    "collapsed": false,
    "deletable": true,
    "editable": true
   },
   "outputs": [
    {
     "name": "stdout",
     "output_type": "stream",
     "text": [
      "final data: xxx333\n"
     ]
    },
    {
     "ename": "AssertionError",
     "evalue": "t.data length should be 12 but is 6",
     "output_type": "error",
     "traceback": [
      "\u001b[0;31m---------------------------------------------------------------------------\u001b[0m",
      "\u001b[0;31mAssertionError\u001b[0m                            Traceback (most recent call last)",
      "\u001b[0;32m<ipython-input-21-2a4fddbcf843>\u001b[0m in \u001b[0;36m<module>\u001b[0;34m()\u001b[0m\n\u001b[1;32m     34\u001b[0m \u001b[0;34m\u001b[0m\u001b[0m\n\u001b[1;32m     35\u001b[0m \u001b[0;32mprint\u001b[0m \u001b[0;34m\"final data:\"\u001b[0m\u001b[0;34m,\u001b[0m \u001b[0mt\u001b[0m\u001b[0;34m.\u001b[0m\u001b[0mdata\u001b[0m\u001b[0;34m\u001b[0m\u001b[0m\n\u001b[0;32m---> 36\u001b[0;31m \u001b[0;32massert\u001b[0m \u001b[0mlen\u001b[0m\u001b[0;34m(\u001b[0m\u001b[0mt\u001b[0m\u001b[0;34m.\u001b[0m\u001b[0mdata\u001b[0m\u001b[0;34m)\u001b[0m \u001b[0;34m==\u001b[0m \u001b[0;36m12\u001b[0m\u001b[0;34m,\u001b[0m \u001b[0;34m\"t.data length should be 12 but is \"\u001b[0m \u001b[0;34m+\u001b[0m \u001b[0mstr\u001b[0m\u001b[0;34m(\u001b[0m\u001b[0mlen\u001b[0m\u001b[0;34m(\u001b[0m\u001b[0mt\u001b[0m\u001b[0;34m.\u001b[0m\u001b[0mdata\u001b[0m\u001b[0;34m)\u001b[0m\u001b[0;34m)\u001b[0m\u001b[0;34m\u001b[0m\u001b[0m\n\u001b[0m",
      "\u001b[0;31mAssertionError\u001b[0m: t.data length should be 12 but is 6"
     ]
    }
   ],
   "source": [
    "import time\n",
    "\n",
    "class Task(object):\n",
    "    def __init__(self):\n",
    "        self.data = \"xxx\"\n",
    "\n",
    "    def run1(self):\n",
    "        data = self.data\n",
    "        time.sleep(0.5)\n",
    "        self.data = data + \"111\"\n",
    "\n",
    "    def run2(self):\n",
    "        data = self.data\n",
    "        time.sleep(0.5)\n",
    "        self.data = data + \"222\"\n",
    "\n",
    "    def run3(self):\n",
    "        data = self.data\n",
    "        time.sleep(0.5)\n",
    "        self.data = data + \"333\"\n",
    "\n",
    "\n",
    "\n",
    "from threading import Thread\n",
    "\n",
    "t = Task()\n",
    "\n",
    "ts = [Thread(target=lambda j: j.run1(), args=(t, )),\n",
    "        Thread(target=lambda j: j.run2(), args=(t, )),\n",
    "        Thread(target=lambda j: j.run3(), args=(t, ))]\n",
    "\n",
    "[s.start() for s in ts]\n",
    "[s.join() for s in ts]\n",
    "\n",
    "print \"final data:\", t.data\n",
    "assert len(t.data) == 12, \"t.data length should be 12 but is \" + str(len(t.data))"
   ]
  },
  {
   "cell_type": "code",
   "execution_count": 22,
   "metadata": {
    "collapsed": false,
    "deletable": true,
    "editable": true
   },
   "outputs": [
    {
     "name": "stdout",
     "output_type": "stream",
     "text": [
      "final data: xxx111222333\n"
     ]
    }
   ],
   "source": [
    "import wrapt, time, threading, inspect\n",
    "from threading import Thread\n",
    "\n",
    "def synchronized(cls):\n",
    "    lock = threading.RLock()\n",
    "\n",
    "    @wrapt.decorator\n",
    "    def _wrapper(fn, instance, args, kwargs):\n",
    "        with lock:\n",
    "            return fn(*args, **kwargs)\n",
    "\n",
    "    for k, v in cls.__dict__.iteritems():\n",
    "        if not k.startswith(\"__\") and inspect.isfunction(v):\n",
    "            setattr(cls, k, _wrapper(v))\n",
    "\n",
    "    return cls\n",
    "\n",
    "\n",
    "@synchronized\n",
    "class Task(object):\n",
    "    def __init__(self):\n",
    "        self.data = \"xxx\"\n",
    "\n",
    "    def run1(self):\n",
    "        data = self.data\n",
    "        time.sleep(0.5)\n",
    "        self.data = data + \"111\"\n",
    "\n",
    "    def run2(self):\n",
    "        data = self.data\n",
    "        time.sleep(0.5)\n",
    "        self.data = data + \"222\"\n",
    "\n",
    "    def run3(self):\n",
    "        data = self.data\n",
    "        time.sleep(0.5)\n",
    "        self.data = data + \"333\"\n",
    "\n",
    "\n",
    "t = Task()\n",
    "ts = [Thread(target=lambda j: j.run1(), args=(t, )),\n",
    "        Thread(target=lambda j: j.run2(), args=(t, )),\n",
    "        Thread(target=lambda j: j.run3(), args=(t, ))]\n",
    "\n",
    "[s.start() for s in ts]\n",
    "[s.join() for s in ts]\n",
    "\n",
    "print \"final data:\", t.data\n",
    "assert len(t.data) == 12, \"t.data length should be 12 but is \" + str(len(t.data))"
   ]
  },
  {
   "cell_type": "markdown",
   "metadata": {
    "deletable": true,
    "editable": true
   },
   "source": [
    "### about Decorator Overhead\n",
    "use optimized wrapt for relative low performance impact"
   ]
  },
  {
   "cell_type": "markdown",
   "metadata": {
    "deletable": true,
    "editable": true
   },
   "source": [
    "## 3.6 Metaclass"
   ]
  },
  {
   "cell_type": "markdown",
   "metadata": {
    "deletable": true,
    "editable": true
   },
   "source": [
    "> Provide hook for class construction (somehow metaprogramming)"
   ]
  },
  {
   "cell_type": "markdown",
   "metadata": {
    "deletable": true,
    "editable": true
   },
   "source": [
    "### 3.6.1 How to monitor class generation (in class hierarchy)\n",
    "\n",
    "when, how, who and easily get all sub-class for a base class"
   ]
  },
  {
   "cell_type": "code",
   "execution_count": 25,
   "metadata": {
    "collapsed": false,
    "deletable": true,
    "editable": true
   },
   "outputs": [
    {
     "name": "stdout",
     "output_type": "stream",
     "text": [
      "Color: Red, Blue, Yellow, Green\n",
      "Color: PhthaloBlue, Yellow, Red, Green, CeruleanBlue\n"
     ]
    }
   ],
   "source": [
    "class RegisterLeafClasses(type):\n",
    "    def __init__(cls, name, bases, nmspc):\n",
    "        super(RegisterLeafClasses, cls).__init__(name, bases, nmspc)\n",
    "        if not hasattr(cls, 'registry'):\n",
    "            cls.registry = set()\n",
    "        cls.registry.add(cls)\n",
    "        cls.registry -= set(bases) # Remove base classes\n",
    "\n",
    "    def __str__(cls):\n",
    "        if cls in cls.registry:\n",
    "            return cls.__name__\n",
    "        return cls.__name__ + \": \" + \", \".join([sc.__name__ for sc in cls.registry])\n",
    "\n",
    "class Color(object):\n",
    "    __metaclass__ = RegisterLeafClasses\n",
    "\n",
    "class Blue(Color): pass\n",
    "class Red(Color): pass\n",
    "class Green(Color): pass\n",
    "class Yellow(Color): pass\n",
    "print(Color)\n",
    "class PhthaloBlue(Blue): pass\n",
    "class CeruleanBlue(Blue): pass\n",
    "print(Color)"
   ]
  },
  {
   "cell_type": "markdown",
   "metadata": {
    "deletable": true,
    "editable": true
   },
   "source": [
    "### 3.6.2 How to make a class as final (cannot be inherited)"
   ]
  },
  {
   "cell_type": "code",
   "execution_count": 27,
   "metadata": {
    "collapsed": false,
    "deletable": true,
    "editable": true
   },
   "outputs": [
    {
     "name": "stdout",
     "output_type": "stream",
     "text": [
      "**debug**  C (<class '__main__.B'>,) {'__module__': '__main__'}\n"
     ]
    },
    {
     "ename": "TypeError",
     "evalue": "B is final",
     "output_type": "error",
     "traceback": [
      "\u001b[0;31m---------------------------------------------------------------------------\u001b[0m",
      "\u001b[0;31mTypeError\u001b[0m                                 Traceback (most recent call last)",
      "\u001b[0;32m<ipython-input-27-fb2c97de9947>\u001b[0m in \u001b[0;36m<module>\u001b[0;34m()\u001b[0m\n\u001b[1;32m     14\u001b[0m \u001b[0;34m\u001b[0m\u001b[0m\n\u001b[1;32m     15\u001b[0m \u001b[0;31m# compile error cause B is final\u001b[0m\u001b[0;34m\u001b[0m\u001b[0;34m\u001b[0m\u001b[0m\n\u001b[0;32m---> 16\u001b[0;31m \u001b[0;32mclass\u001b[0m \u001b[0mC\u001b[0m\u001b[0;34m(\u001b[0m\u001b[0mB\u001b[0m\u001b[0;34m)\u001b[0m\u001b[0;34m:\u001b[0m\u001b[0;34m\u001b[0m\u001b[0m\n\u001b[0m\u001b[1;32m     17\u001b[0m     \u001b[0;32mpass\u001b[0m\u001b[0;34m\u001b[0m\u001b[0m\n",
      "\u001b[0;32m<ipython-input-27-fb2c97de9947>\u001b[0m in \u001b[0;36m__init__\u001b[0;34m(cls, name, bases, namespace)\u001b[0m\n\u001b[1;32m      5\u001b[0m             \u001b[0;32mif\u001b[0m \u001b[0misinstance\u001b[0m\u001b[0;34m(\u001b[0m\u001b[0mklass\u001b[0m\u001b[0;34m,\u001b[0m \u001b[0mfinal\u001b[0m\u001b[0;34m)\u001b[0m\u001b[0;34m:\u001b[0m\u001b[0;34m\u001b[0m\u001b[0m\n\u001b[1;32m      6\u001b[0m                 \u001b[0;32mprint\u001b[0m \u001b[0;34m\"**debug** \"\u001b[0m\u001b[0;34m,\u001b[0m \u001b[0mname\u001b[0m\u001b[0;34m,\u001b[0m \u001b[0mbases\u001b[0m\u001b[0;34m,\u001b[0m \u001b[0mnamespace\u001b[0m\u001b[0;34m\u001b[0m\u001b[0m\n\u001b[0;32m----> 7\u001b[0;31m                 \u001b[0;32mraise\u001b[0m \u001b[0mTypeError\u001b[0m\u001b[0;34m(\u001b[0m\u001b[0mstr\u001b[0m\u001b[0;34m(\u001b[0m\u001b[0mklass\u001b[0m\u001b[0;34m.\u001b[0m\u001b[0m__name__\u001b[0m\u001b[0;34m)\u001b[0m \u001b[0;34m+\u001b[0m \u001b[0;34m\" is final\"\u001b[0m\u001b[0;34m)\u001b[0m\u001b[0;34m\u001b[0m\u001b[0m\n\u001b[0m\u001b[1;32m      8\u001b[0m \u001b[0;34m\u001b[0m\u001b[0m\n\u001b[1;32m      9\u001b[0m \u001b[0;32mclass\u001b[0m \u001b[0mA\u001b[0m\u001b[0;34m(\u001b[0m\u001b[0mobject\u001b[0m\u001b[0;34m)\u001b[0m\u001b[0;34m:\u001b[0m\u001b[0;34m\u001b[0m\u001b[0m\n",
      "\u001b[0;31mTypeError\u001b[0m: B is final"
     ]
    }
   ],
   "source": [
    "class final(type):\n",
    "    def __init__(cls, name, bases, namespace):\n",
    "        super(final, cls).__init__(name, bases, namespace)\n",
    "        for klass in bases:\n",
    "            if isinstance(klass, final):\n",
    "                print \"**debug** \", name, bases, namespace\n",
    "                raise TypeError(str(klass.__name__) + \" is final\")\n",
    "\n",
    "class A(object):\n",
    "    pass\n",
    "\n",
    "class B(A):\n",
    "    __metaclass__= final\n",
    "\n",
    "# compile error cause B is final\n",
    "class C(B):\n",
    "    pass"
   ]
  },
  {
   "cell_type": "markdown",
   "metadata": {
    "deletable": true,
    "editable": true
   },
   "source": [
    "### 3.6.3 Another way to decorate class\n",
    "\n",
    "Example: Syncrhonized metaclass"
   ]
  },
  {
   "cell_type": "code",
   "execution_count": 28,
   "metadata": {
    "collapsed": false,
    "deletable": true,
    "editable": true
   },
   "outputs": [
    {
     "name": "stdout",
     "output_type": "stream",
     "text": [
      "final data: xxx111222333\n"
     ]
    }
   ],
   "source": [
    "import threading, inspect, collections\n",
    "import wrapt\n",
    "\n",
    "class SynchronizedClass(type):\n",
    "    @classmethod\n",
    "    def __prepare__(name, bases, **kwds):\n",
    "        return collections.OrderedDict()\n",
    "\n",
    "    def __new__(metacls, name, bases, namespace, **kwds):\n",
    "        ret = type.__new__(metacls, name, bases, dict(namespace))\n",
    "\n",
    "        ret.lock = threading.RLock()\n",
    "\n",
    "        @wrapt.decorator\n",
    "        def _wrapper(fn, instance, args, kwargs):\n",
    "            with ret.lock:\n",
    "                return fn(*args, **kwargs)\n",
    "\n",
    "        for k, v in namespace.iteritems():\n",
    "            if not k.startswith(\"__\") and inspect.isfunction(v):\n",
    "                setattr(ret, k, _wrapper(v))\n",
    "\n",
    "        return ret\n",
    "\n",
    "class Task(object):\n",
    "    __metaclass__ = SynchronizedClass\n",
    "\n",
    "    def __init__(self):\n",
    "        self.data = \"xxx\"\n",
    "\n",
    "    def run1(self):\n",
    "        data = self.data\n",
    "        time.sleep(0.5)\n",
    "        self.data = data + \"111\"\n",
    "\n",
    "    def run2(self):\n",
    "        data = self.data\n",
    "        time.sleep(0.5)\n",
    "        self.data = data + \"222\"\n",
    "\n",
    "    def run3(self):\n",
    "        data = self.data\n",
    "        time.sleep(0.5)\n",
    "        self.data = data + \"333\"\n",
    "\n",
    "\n",
    "t = Task()\n",
    "ts = [Thread(target=lambda j: j.run1(), args=(t, )),\n",
    "        Thread(target=lambda j: j.run2(), args=(t, )),\n",
    "        Thread(target=lambda j: j.run3(), args=(t, ))]\n",
    "\n",
    "[s.start() for s in ts]\n",
    "[s.join() for s in ts]\n",
    "\n",
    "print \"final data:\", t.data\n",
    "assert len(t.data) == 12, \"t.data length should be 12 but is \" + str(len(t.data))"
   ]
  },
  {
   "cell_type": "markdown",
   "metadata": {
    "deletable": true,
    "editable": true
   },
   "source": [
    "## 4. Interpreter Level Hook\n",
    "### 4.1 AST\n"
   ]
  },
  {
   "cell_type": "markdown",
   "metadata": {
    "deletable": true,
    "editable": true
   },
   "source": [
    "> Provide hook method to change the Syntax tree\n",
    "\n",
    "![media](media/PythonAST.png)\n"
   ]
  },
  {
   "cell_type": "code",
   "execution_count": 1,
   "metadata": {
    "collapsed": false,
    "deletable": true,
    "editable": true
   },
   "outputs": [
    {
     "ename": "TypeError",
     "evalue": "Macro `require` illegally invoked at runtime; did you import it properly using `from ... import macros, require`?",
     "output_type": "error",
     "traceback": [
      "\u001b[0;31m---------------------------------------------------------------------------\u001b[0m",
      "\u001b[0;31mTypeError\u001b[0m                                 Traceback (most recent call last)",
      "\u001b[0;32m<ipython-input-1-f1c16d4ddd50>\u001b[0m in \u001b[0;36m<module>\u001b[0;34m()\u001b[0m\n\u001b[1;32m      2\u001b[0m \u001b[0;34m\u001b[0m\u001b[0m\n\u001b[1;32m      3\u001b[0m \u001b[0;32mtry\u001b[0m\u001b[0;34m:\u001b[0m\u001b[0;34m\u001b[0m\u001b[0m\n\u001b[0;32m----> 4\u001b[0;31m     \u001b[0mrequire\u001b[0m\u001b[0;34m[\u001b[0m\u001b[0;36m3\u001b[0m\u001b[0;34m**\u001b[0m\u001b[0;36m2\u001b[0m \u001b[0;34m+\u001b[0m \u001b[0;36m4\u001b[0m\u001b[0;34m**\u001b[0m\u001b[0;36m2\u001b[0m \u001b[0;34m!=\u001b[0m \u001b[0;36m5\u001b[0m\u001b[0;34m**\u001b[0m\u001b[0;36m2\u001b[0m\u001b[0;34m]\u001b[0m\u001b[0;34m\u001b[0m\u001b[0m\n\u001b[0m\u001b[1;32m      5\u001b[0m \u001b[0;32mexcept\u001b[0m \u001b[0mAssertionError\u001b[0m \u001b[0;32mas\u001b[0m \u001b[0me\u001b[0m\u001b[0;34m:\u001b[0m\u001b[0;34m\u001b[0m\u001b[0m\n\u001b[1;32m      6\u001b[0m     \u001b[0;32mprint\u001b[0m \u001b[0me\u001b[0m\u001b[0;34m\u001b[0m\u001b[0m\n",
      "\u001b[0;32m/home/ubuntu/.virtualenvs/python-hooking/local/lib/python2.7/site-packages/macropy/core/macros.pyc\u001b[0m in \u001b[0;36m__getitem__\u001b[0;34m(self, i)\u001b[0m\n\u001b[1;32m     29\u001b[0m \u001b[0;34m\u001b[0m\u001b[0m\n\u001b[1;32m     30\u001b[0m     \u001b[0;32mdef\u001b[0m \u001b[0m__getitem__\u001b[0m\u001b[0;34m(\u001b[0m\u001b[0mself\u001b[0m\u001b[0;34m,\u001b[0m \u001b[0mi\u001b[0m\u001b[0;34m)\u001b[0m\u001b[0;34m:\u001b[0m\u001b[0;34m\u001b[0m\u001b[0m\n\u001b[0;32m---> 31\u001b[0;31m         \u001b[0;32mraise\u001b[0m \u001b[0mTypeError\u001b[0m\u001b[0;34m(\u001b[0m\u001b[0mself\u001b[0m\u001b[0;34m.\u001b[0m\u001b[0mmsg\u001b[0m\u001b[0;34m.\u001b[0m\u001b[0mreplace\u001b[0m\u001b[0;34m(\u001b[0m\u001b[0;34m\"%s\"\u001b[0m\u001b[0;34m,\u001b[0m \u001b[0mself\u001b[0m\u001b[0;34m.\u001b[0m\u001b[0mfunc\u001b[0m\u001b[0;34m.\u001b[0m\u001b[0m__name__\u001b[0m\u001b[0;34m)\u001b[0m\u001b[0;34m)\u001b[0m\u001b[0;34m\u001b[0m\u001b[0m\n\u001b[0m\u001b[1;32m     32\u001b[0m \u001b[0;34m\u001b[0m\u001b[0m\n\u001b[1;32m     33\u001b[0m \u001b[0;34m\u001b[0m\u001b[0m\n",
      "\u001b[0;31mTypeError\u001b[0m: Macro `require` illegally invoked at runtime; did you import it properly using `from ... import macros, require`?"
     ]
    }
   ],
   "source": [
    "from macropy.tracing import macros, require\n",
    "\n",
    "try:\n",
    "    require[3**2 + 4**2 != 5**2]\n",
    "except AssertionError as e:\n",
    "    print e\n",
    "    \n",
    "try:\n",
    "    a = 10\n",
    "    b = 2\n",
    "    with require:\n",
    "        a > 5\n",
    "        a * b == 20\n",
    "        a < 2\n",
    "except AssertionError as e:\n",
    "    print e"
   ]
  },
  {
   "cell_type": "markdown",
   "metadata": {
    "deletable": true,
    "editable": true
   },
   "source": [
    "## 4.2 Bytecodes"
   ]
  },
  {
   "cell_type": "code",
   "execution_count": 2,
   "metadata": {
    "collapsed": false,
    "deletable": true,
    "editable": true
   },
   "outputs": [
    {
     "name": "stdout",
     "output_type": "stream",
     "text": [
      "hello world\n"
     ]
    }
   ],
   "source": [
    "def hello():\n",
    "    print \"hello world\"\n",
    "    \n",
    "hello()"
   ]
  },
  {
   "cell_type": "markdown",
   "metadata": {
    "deletable": true,
    "editable": true
   },
   "source": [
    "Is it possible to hack the string \"hello world\"?"
   ]
  },
  {
   "cell_type": "code",
   "execution_count": 3,
   "metadata": {
    "collapsed": false,
    "deletable": true,
    "editable": true
   },
   "outputs": [
    {
     "name": "stdout",
     "output_type": "stream",
     "text": [
      "\n",
      "  2           1 LOAD_CONST           'hello world'\n",
      "              2 PRINT_ITEM           \n",
      "              3 PRINT_NEWLINE        \n",
      "              4 LOAD_CONST           None\n",
      "              5 RETURN_VALUE         \n",
      "\n"
     ]
    }
   ],
   "source": [
    "import dis\n",
    "from byteplay import Code, LOAD_CONST\n",
    "\n",
    "c = Code.from_code(hello.__code__)\n",
    "print c.code"
   ]
  },
  {
   "cell_type": "code",
   "execution_count": 4,
   "metadata": {
    "collapsed": false,
    "deletable": true,
    "editable": true
   },
   "outputs": [
    {
     "name": "stdout",
     "output_type": "stream",
     "text": [
      "(SetLineno, 2)\n",
      "(LOAD_CONST, 'hello world')\n"
     ]
    }
   ],
   "source": [
    "print c.code[0]\n",
    "print c.code[1]"
   ]
  },
  {
   "cell_type": "code",
   "execution_count": 5,
   "metadata": {
    "collapsed": false,
    "deletable": true,
    "editable": true
   },
   "outputs": [
    {
     "name": "stdout",
     "output_type": "stream",
     "text": [
      "hello pycon 2016!\n"
     ]
    }
   ],
   "source": [
    "c.code[1] = (LOAD_CONST, \"hello pycon 2016!\")\n",
    "hello.__code__ = c.to_code()\n",
    "\n",
    "hello()"
   ]
  },
  {
   "cell_type": "markdown",
   "metadata": {
    "deletable": true,
    "editable": true
   },
   "source": [
    "## 4.3 Frame Object"
   ]
  },
  {
   "cell_type": "markdown",
   "metadata": {
    "deletable": true,
    "editable": true
   },
   "source": [
    "[Frame Hacks](http://feihonghsu.com/secrets/framehack/index.html)"
   ]
  },
  {
   "cell_type": "markdown",
   "metadata": {
    "collapsed": true,
    "deletable": true,
    "editable": true
   },
   "source": [
    "### Example 1. how to support interpolate string?"
   ]
  },
  {
   "cell_type": "code",
   "execution_count": 6,
   "metadata": {
    "collapsed": false,
    "deletable": true,
    "editable": true
   },
   "outputs": [
    {
     "name": "stdout",
     "output_type": "stream",
     "text": [
      "My name is ${'Mr. ' + name + ', Esquire'}.\n",
      "I have visited the following cities: ${', '.join(places)}.\n",
      "\n"
     ]
    }
   ],
   "source": [
    "name = 'Guido van Rossum'\n",
    "places = 'Amsterdam', 'LA', 'New York', 'DC', 'Chicago',\n",
    "s = \"\"\"My name is ${'Mr. ' + name + ', Esquire'}.\n",
    "I have visited the following cities: ${', '.join(places)}.\n",
    "\"\"\"\n",
    "\n",
    "print s"
   ]
  },
  {
   "cell_type": "markdown",
   "metadata": {
    "collapsed": true,
    "deletable": true,
    "editable": true
   },
   "source": [
    "**Expected output**\n",
    "\n",
    "```\n",
    "My name is Mr. Guido van Rossum, Esquire.\n",
    "I have visited the following ci ties: Amsterdam, LA, New York, DC, Chicago.\n",
    "```"
   ]
  },
  {
   "cell_type": "code",
   "execution_count": 12,
   "metadata": {
    "collapsed": false,
    "deletable": true,
    "editable": true
   },
   "outputs": [],
   "source": [
    "import sys, re\n",
    "\n",
    "def getchunks(s):\n",
    "    matches = list(re.finditer(r\"\\$\\{(.*?)\\}\", s))\n",
    "    \n",
    "    if matches:\n",
    "        pos = 0\n",
    "        for match in matches:\n",
    "            yield s[pos : match.start()]\n",
    "            yield [match.group(1)]\n",
    "            pos = match.end()\n",
    "    yield s[pos:]\n",
    "\n",
    "def interpolate(templateStr):\n",
    "    framedict = sys._getframe(1).f_locals\n",
    "    \n",
    "    result = ''\n",
    "    for chunk in getchunks(templateStr):\n",
    "        if isinstance(chunk, list):\n",
    "            result += str(eval(chunk[0], globals(), framedict))\n",
    "        else:\n",
    "            result += chunk\n",
    "            \n",
    "    return result"
   ]
  },
  {
   "cell_type": "code",
   "execution_count": 13,
   "metadata": {
    "collapsed": false,
    "deletable": true,
    "editable": true
   },
   "outputs": [
    {
     "name": "stdout",
     "output_type": "stream",
     "text": [
      "My name is Mr. Guido van Rossum, Esquire.\n",
      "    I have visited the following cities: Amsterdam, LA, New York, DC, Chicago.\n",
      "    \n"
     ]
    }
   ],
   "source": [
    "def foo():\n",
    "    name = 'Guido van Rossum'\n",
    "\n",
    "    places = 'Amsterdam', 'LA', 'New York', 'DC', 'Chicago',\n",
    "    s = \"\"\"My name is ${'Mr. ' + name + ', Esquire'}.\n",
    "    I have visited the following cities: ${', '.join(places)}.\n",
    "    \"\"\"\n",
    "    print interpolate(s)\n",
    "\n",
    "foo()"
   ]
  },
  {
   "cell_type": "markdown",
   "metadata": {
    "deletable": true,
    "editable": true
   },
   "source": [
    "### Example 2. Generating properties on a wrapper class"
   ]
  },
  {
   "cell_type": "code",
   "execution_count": 14,
   "metadata": {
    "collapsed": true,
    "deletable": true,
    "editable": true
   },
   "outputs": [],
   "source": [
    "class Employee(object):\n",
    "    def __init__(self):\n",
    "        self._given = \"\"\n",
    "        self._family = \"\"\n",
    "        self.birth = \"\"\n",
    "\n",
    "    given = property(\n",
    "        lambda self: self._given,\n",
    "        lambda self, v: setattr(self, '_given', v)\n",
    "    )\n",
    "    family = property(\n",
    "        lambda self: self._family,\n",
    "        lambda self, v: setattr(self, '_family', v)\n",
    "    )\n",
    "    birth = property(\n",
    "        lambda self: self._birth,\n",
    "        lambda self, v: setattr(self, '_birth', v)\n",
    "    )\n"
   ]
  },
  {
   "cell_type": "markdown",
   "metadata": {
    "deletable": true,
    "editable": true
   },
   "source": [
    "Use a frame hack to simplify the definition of properties:\n",
    "\n",
    "```python\n",
    "class Employee(object):\n",
    "    properties(\n",
    "        given  = 'GivenName',\n",
    "        family = 'FamilyName',\n",
    "        birth =  'DateOfBirth',\n",
    "    )\n",
    "```"
   ]
  },
  {
   "cell_type": "code",
   "execution_count": 18,
   "metadata": {
    "collapsed": false,
    "deletable": true,
    "editable": true
   },
   "outputs": [
    {
     "name": "stdout",
     "output_type": "stream",
     "text": [
      "FamilyName\n"
     ]
    }
   ],
   "source": [
    "import sys\n",
    "\n",
    "def properties(**kwargs):\n",
    "    frame = sys._getframe(1)\n",
    "    for name, value in kwargs.items():\n",
    "        frame.f_locals[name] = property(\n",
    "            lambda self: value,\n",
    "            lambda self, v: setattr(self, name, v)\n",
    "            )\n",
    "\n",
    "\n",
    "class Employee(object):\n",
    "    properties(\n",
    "        given  = 'GivenName',\n",
    "        family = 'FamilyName',\n",
    "        birth =  'DateOfBirth',\n",
    "    )\n",
    "\n",
    "e = Employee()\n",
    "print(e.family)"
   ]
  }
 ],
 "metadata": {
  "kernelspec": {
   "display_name": "Python 2",
   "language": "python",
   "name": "python2"
  },
  "language_info": {
   "codemirror_mode": {
    "name": "ipython",
    "version": 2
   },
   "file_extension": ".py",
   "mimetype": "text/x-python",
   "name": "python",
   "nbconvert_exporter": "python",
   "pygments_lexer": "ipython2",
   "version": "2.7.6"
  }
 },
 "nbformat": 4,
 "nbformat_minor": 2
}
